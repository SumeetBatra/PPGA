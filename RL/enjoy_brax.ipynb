{
 "cells": [
  {
   "cell_type": "code",
   "execution_count": null,
   "metadata": {},
   "outputs": [],
   "source": [
    "%pwd\n",
    "import os\n",
    "os.chdir('/home/sumeet/QDPPO')"
   ]
  },
  {
   "cell_type": "code",
   "execution_count": null,
   "outputs": [],
   "source": [
    "import pickle\n",
    "\n",
    "import numpy as np\n",
    "from attrdict import AttrDict\n",
    "from RL.ppo import *\n",
    "from utils.utilities import log\n",
    "from envs.brax_custom.brax_env import make_vec_env_brax\n",
    "from models.actor_critic import Actor\n",
    "\n",
    "from IPython.display import HTML, Image\n",
    "from IPython.display import display\n",
    "from brax.io import html, image\n",
    "from RL.train_ppo_cleanrl import Agent as CleanRLAgent"
   ],
   "metadata": {
    "collapsed": false
   }
  },
  {
   "cell_type": "code",
   "execution_count": null,
   "outputs": [],
   "source": [
    "cfg = {'env_name': 'humanoid', 'env_batch_size': None, 'normalize_obs': False, 'normalize_rewards': True,\n",
    "       'num_dims': 2, 'envs_per_model': 1, 'seed': 0, 'obs_shape': (227,), 'num_envs': 1}\n",
    "cfg = AttrDict(cfg)\n",
    "device = torch.device('cuda' if torch.cuda.is_available() else 'cpu')\n",
    "env = make_vec_env_brax(cfg)\n",
    "\n",
    "obs_shape, action_shape = env.observation_space.shape, env.action_space.shape\n",
    "print(obs_shape, action_shape)"
   ],
   "metadata": {
    "collapsed": false
   }
  },
  {
   "cell_type": "code",
   "execution_count": null,
   "outputs": [],
   "source": [
    "def load_agent_from_archive():\n",
    "    archive_path = '/home/sumeet/QDPPO/experiments/method3_humanoid_archivelr0.5_50x50_minthresh250/1111/1111/checkpoints/cp_00002170/archive_00002170.pkl'\n",
    "    with open(archive_path, 'rb') as f:\n",
    "        archive_df = pickle.load(f)\n",
    "    # elites = archive_df.query(\"objective > 6000\").sort_values(\"objective\", ascending=False)\n",
    "    agent_params = archive_df.query('142').to_numpy()[4:]\n",
    "    agent = Actor(cfg, obs_shape=obs_shape, action_shape=action_shape).deserialize(agent_params).to(device)\n",
    "    return agent"
   ],
   "metadata": {
    "collapsed": false
   }
  },
  {
   "cell_type": "code",
   "execution_count": null,
   "metadata": {},
   "outputs": [],
   "source": [
    "def enjoy_brax(agent=None, render=False):\n",
    "    if agent is None:\n",
    "        # agent = Actor(cfg, obs_shape, action_shape).to(device)\n",
    "        agent = CleanRLAgent(env).to(device)\n",
    "        cp_path = \"/home/sumeet/QDPPO/checkpoints/humanoid_brax_model_checkpoint\"\n",
    "        model_state_dict = torch.load(cp_path)['model_state_dict']\n",
    "        model_state_dict['actor_logstd'] = model_state_dict['actor_logstd'].reshape(1, -1)\n",
    "        agent.load_state_dict(model_state_dict)\n",
    "\n",
    "    if cfg.normalize_obs:\n",
    "        obs_mean, obs_var = agent.obs_normalizer.obs_rms.mean, agent.obs_normalizer.obs_rms.var\n",
    "\n",
    "\n",
    "    obs = env.reset()\n",
    "    rollout = [env.unwrapped._state]\n",
    "    total_reward = 0\n",
    "    measures = torch.zeros(cfg.num_dims).to(device)\n",
    "    done = False\n",
    "    while not done:\n",
    "        with torch.no_grad():\n",
    "            obs = obs.unsqueeze(dim=0).to(device)\n",
    "            if cfg.normalize_obs:\n",
    "                obs = (obs - obs_mean) / torch.sqrt(obs_var + 1e-8)\n",
    "            act, _, _ = agent.get_action(obs)\n",
    "            # act = agent(obs)\n",
    "            act = act.squeeze()\n",
    "            obs, rew, done, info = env.step(act.cpu())\n",
    "            measures += info['measures']\n",
    "            rollout.append(env.unwrapped._state)\n",
    "            total_reward += rew\n",
    "\n",
    "    if render:\n",
    "        i = HTML(html.render(env.unwrapped._env.sys, [s.qp for s in rollout]))\n",
    "        display(i)\n",
    "        print(f'{total_reward=}')\n",
    "        print(f' Rollout length: {len(rollout)}')\n",
    "        measures /= len(rollout)\n",
    "        print(f'Measures: {measures.cpu().numpy()}')\n",
    "    return total_reward.detach().cpu().numpy()\n"
   ]
  },
  {
   "cell_type": "code",
   "execution_count": null,
   "metadata": {},
   "outputs": [],
   "source": [
    "agent = load_agent_from_archive()\n",
    "# agent = Actor(cfg, obs_shape, action_shape).to(device)\n",
    "enjoy_brax(agent, render=True)"
   ]
  },
  {
   "cell_type": "code",
   "execution_count": null,
   "outputs": [],
   "source": [
    "# trials = 100\n",
    "# scores = []\n",
    "# for t in range(trials):\n",
    "#     scores.append(enjoy_brax(agent, render=False))\n",
    "# scores = np.array(scores)\n",
    "# min_rew, max_rew, mean_rew = np.min(scores), np.max(scores), np.mean(scores)\n",
    "# print(f'{min_rew=}, {max_rew=}, {mean_rew=}')\n"
   ],
   "metadata": {
    "collapsed": false
   }
  },
  {
   "cell_type": "code",
   "execution_count": null,
   "outputs": [],
   "source": [],
   "metadata": {
    "collapsed": false
   }
  }
 ],
 "metadata": {
  "kernelspec": {
   "display_name": "Python 3 (ipykernel)",
   "language": "python",
   "name": "python3"
  },
  "language_info": {
   "codemirror_mode": {
    "name": "ipython",
    "version": 3
   },
   "file_extension": ".py",
   "mimetype": "text/x-python",
   "name": "python",
   "nbconvert_exporter": "python",
   "pygments_lexer": "ipython3",
   "version": "3.9.13"
  }
 },
 "nbformat": 4,
 "nbformat_minor": 1
}

{
 "cells": [
  {
   "cell_type": "code",
   "execution_count": 16,
   "metadata": {},
   "outputs": [],
   "source": [
    "import pickle\n",
    "from attrdict import AttrDict\n",
    "from RL.ppo import *\n",
    "from utils.utils import log\n",
    "from envs.cpu.env import make_env\n",
    "from envs.brax_custom.gpu_env import make_vec_env_brax\n",
    "from models.actor_critic import Actor\n",
    "\n",
    "from IPython.display import HTML, Image\n",
    "from IPython.display import display\n",
    "from brax.io import html, image\n",
    "from brax import envs\n",
    "from jax import numpy as jnp"
   ]
  },
  {
   "cell_type": "code",
   "execution_count": 17,
   "metadata": {},
   "outputs": [],
   "source": [
    "%pwd\n",
    "import os\n",
    "os.chdir('/home/sbatra/QDPPO')"
   ]
  },
  {
   "cell_type": "code",
   "execution_count": 18,
   "outputs": [],
   "source": [
    "cfg = {'env_name': 'ant', 'env_batch_size': None, 'normalize_obs': False, 'normalize_rewards': True,\n",
    "       'num_dims': 4, 'envs_per_model': 1, 'seed': 0, 'obs_shape': (87,), 'num_envs': 1}\n",
    "cfg = AttrDict(cfg)\n",
    "device = torch.device('cuda' if torch.cuda.is_available() else 'cpu')\n",
    "env = make_vec_env_brax(cfg)\n",
    "\n",
    "obs_shape, action_shape = env.observation_space.shape, env.action_space.shape"
   ],
   "metadata": {
    "collapsed": false
   }
  },
  {
   "cell_type": "code",
   "execution_count": 19,
   "outputs": [],
   "source": [
    "def load_agent_from_archive():\n",
    "    archive_path = '/home/sbatra/QDPPO/logs/qd-ppo-ant-debug/cma_mega/trial_0/checkpoints/cp_00000020/archive_00000020.pkl'\n",
    "    with open(archive_path, 'rb') as f:\n",
    "        archive_df = pickle.load(f)\n",
    "    # elites = archive_df.query(\"objective > 6000\").sort_values(\"objective\", ascending=False)\n",
    "    agent_params = archive_df.query('425').to_numpy()[9:]\n",
    "    agent = Actor(cfg, obs_shape=obs_shape, action_shape=action_shape).deserialize(agent_params).to(device)\n",
    "    return agent"
   ],
   "metadata": {
    "collapsed": false
   }
  },
  {
   "cell_type": "code",
   "execution_count": 23,
   "metadata": {},
   "outputs": [],
   "source": [
    "def enjoy_brax(agent=None):\n",
    "    if agent is None:\n",
    "        agent = Actor(cfg, obs_shape, action_shape).to(device)\n",
    "        cp_path = \"checkpoints/brax_model_0_checkpoint\"\n",
    "        model_state_dict = torch.load(cp_path)['model_state_dict']\n",
    "        model_state_dict['actor_logstd'] = model_state_dict['actor_logstd'].reshape(1, -1)\n",
    "        agent.load_state_dict(model_state_dict)\n",
    "\n",
    "    if cfg.normalize_obs:\n",
    "        obs_mean, obs_var = agent.obs_normalizer.obs_rms.mean, agent.obs_normalizer.obs_rms.var\n",
    "\n",
    "\n",
    "    obs = env.reset()\n",
    "    rollout = [env.unwrapped._state]\n",
    "    total_reward = 0\n",
    "    done = False\n",
    "    while not done:\n",
    "        with torch.no_grad():\n",
    "            obs = obs.unsqueeze(dim=0).to(device)\n",
    "            if cfg.normalize_obs:\n",
    "                obs = (obs - obs_mean) / torch.sqrt(obs_var + 1e-8)\n",
    "            act, _, _ = agent.get_action(obs)\n",
    "            act = act.squeeze()\n",
    "            obs, rew, done, info = env.step(act.cpu())\n",
    "            print(rew)\n",
    "            rollout.append(env.unwrapped._state)\n",
    "            total_reward += rew\n",
    "\n",
    "    i = HTML(html.render(env.unwrapped._env.sys, [s.qp for s in rollout]))\n",
    "    display(i) \n",
    "    print(f'{total_reward=}')\n",
    "    print(f' Rollout length: {len(rollout)}')"
   ]
  },
  {
   "cell_type": "code",
   "execution_count": 27,
   "metadata": {},
   "outputs": [
    {
     "ename": "KeyboardInterrupt",
     "evalue": "",
     "output_type": "error",
     "traceback": [
      "\u001B[0;31m---------------------------------------------------------------------------\u001B[0m",
      "\u001B[0;31mKeyboardInterrupt\u001B[0m                         Traceback (most recent call last)",
      "Cell \u001B[0;32mIn [27], line 2\u001B[0m\n\u001B[1;32m      1\u001B[0m agent \u001B[38;5;241m=\u001B[39m load_agent_from_archive()\n\u001B[0;32m----> 2\u001B[0m \u001B[43menjoy_brax\u001B[49m\u001B[43m(\u001B[49m\u001B[43magent\u001B[49m\u001B[43m)\u001B[49m\n",
      "Cell \u001B[0;32mIn [23], line 22\u001B[0m, in \u001B[0;36menjoy_brax\u001B[0;34m(agent)\u001B[0m\n\u001B[1;32m     20\u001B[0m \u001B[38;5;28;01mif\u001B[39;00m cfg\u001B[38;5;241m.\u001B[39mnormalize_obs:\n\u001B[1;32m     21\u001B[0m     obs \u001B[38;5;241m=\u001B[39m (obs \u001B[38;5;241m-\u001B[39m obs_mean) \u001B[38;5;241m/\u001B[39m torch\u001B[38;5;241m.\u001B[39msqrt(obs_var \u001B[38;5;241m+\u001B[39m \u001B[38;5;241m1e-8\u001B[39m)\n\u001B[0;32m---> 22\u001B[0m act, _, _ \u001B[38;5;241m=\u001B[39m \u001B[43magent\u001B[49m\u001B[38;5;241;43m.\u001B[39;49m\u001B[43mget_action\u001B[49m\u001B[43m(\u001B[49m\u001B[43mobs\u001B[49m\u001B[43m)\u001B[49m\n\u001B[1;32m     23\u001B[0m act \u001B[38;5;241m=\u001B[39m act\u001B[38;5;241m.\u001B[39msqueeze()\n\u001B[1;32m     24\u001B[0m obs, rew, done, info \u001B[38;5;241m=\u001B[39m env\u001B[38;5;241m.\u001B[39mstep(act\u001B[38;5;241m.\u001B[39mcpu())\n",
      "File \u001B[0;32m~/QDPPO/models/actor_critic.py:153\u001B[0m, in \u001B[0;36mActor.get_action\u001B[0;34m(self, obs, action)\u001B[0m\n\u001B[1;32m    151\u001B[0m action_mean \u001B[38;5;241m=\u001B[39m \u001B[38;5;28mself\u001B[39m\u001B[38;5;241m.\u001B[39mactor_mean(obs)\n\u001B[1;32m    152\u001B[0m action_logstd \u001B[38;5;241m=\u001B[39m \u001B[38;5;28mself\u001B[39m\u001B[38;5;241m.\u001B[39mactor_logstd\u001B[38;5;241m.\u001B[39mexpand_as(action_mean)\n\u001B[0;32m--> 153\u001B[0m action_std \u001B[38;5;241m=\u001B[39m \u001B[43mtorch\u001B[49m\u001B[38;5;241m.\u001B[39mexp(action_logstd)\n\u001B[1;32m    154\u001B[0m cov_mat \u001B[38;5;241m=\u001B[39m torch\u001B[38;5;241m.\u001B[39mdiag_embed(action_std)\n\u001B[1;32m    155\u001B[0m probs \u001B[38;5;241m=\u001B[39m torch\u001B[38;5;241m.\u001B[39mdistributions\u001B[38;5;241m.\u001B[39mMultivariateNormal(action_mean, cov_mat)\n",
      "File \u001B[0;32m~/QDPPO/models/actor_critic.py:153\u001B[0m, in \u001B[0;36mActor.get_action\u001B[0;34m(self, obs, action)\u001B[0m\n\u001B[1;32m    151\u001B[0m action_mean \u001B[38;5;241m=\u001B[39m \u001B[38;5;28mself\u001B[39m\u001B[38;5;241m.\u001B[39mactor_mean(obs)\n\u001B[1;32m    152\u001B[0m action_logstd \u001B[38;5;241m=\u001B[39m \u001B[38;5;28mself\u001B[39m\u001B[38;5;241m.\u001B[39mactor_logstd\u001B[38;5;241m.\u001B[39mexpand_as(action_mean)\n\u001B[0;32m--> 153\u001B[0m action_std \u001B[38;5;241m=\u001B[39m \u001B[43mtorch\u001B[49m\u001B[38;5;241m.\u001B[39mexp(action_logstd)\n\u001B[1;32m    154\u001B[0m cov_mat \u001B[38;5;241m=\u001B[39m torch\u001B[38;5;241m.\u001B[39mdiag_embed(action_std)\n\u001B[1;32m    155\u001B[0m probs \u001B[38;5;241m=\u001B[39m torch\u001B[38;5;241m.\u001B[39mdistributions\u001B[38;5;241m.\u001B[39mMultivariateNormal(action_mean, cov_mat)\n",
      "File \u001B[0;32m/snap/pycharm-professional/302/plugins/python/helpers/pydev/_pydevd_bundle/pydevd_frame.py:884\u001B[0m, in \u001B[0;36mPyDBFrame.trace_dispatch\u001B[0;34m(self, frame, event, arg)\u001B[0m\n\u001B[1;32m    882\u001B[0m \u001B[38;5;28;01mif\u001B[39;00m is_line:\n\u001B[1;32m    883\u001B[0m     \u001B[38;5;28mself\u001B[39m\u001B[38;5;241m.\u001B[39mset_suspend(thread, step_cmd)\n\u001B[0;32m--> 884\u001B[0m     \u001B[38;5;28;43mself\u001B[39;49m\u001B[38;5;241;43m.\u001B[39;49m\u001B[43mdo_wait_suspend\u001B[49m\u001B[43m(\u001B[49m\u001B[43mthread\u001B[49m\u001B[43m,\u001B[49m\u001B[43m \u001B[49m\u001B[43mframe\u001B[49m\u001B[43m,\u001B[49m\u001B[43m \u001B[49m\u001B[43mevent\u001B[49m\u001B[43m,\u001B[49m\u001B[43m \u001B[49m\u001B[43marg\u001B[49m\u001B[43m)\u001B[49m\n\u001B[1;32m    885\u001B[0m \u001B[38;5;28;01melse\u001B[39;00m:  \u001B[38;5;66;03m# return event\u001B[39;00m\n\u001B[1;32m    886\u001B[0m     back \u001B[38;5;241m=\u001B[39m frame\u001B[38;5;241m.\u001B[39mf_back\n",
      "File \u001B[0;32m/snap/pycharm-professional/302/plugins/python/helpers/pydev/_pydevd_bundle/pydevd_frame.py:144\u001B[0m, in \u001B[0;36mPyDBFrame.do_wait_suspend\u001B[0;34m(self, *args, **kwargs)\u001B[0m\n\u001B[1;32m    143\u001B[0m \u001B[38;5;28;01mdef\u001B[39;00m \u001B[38;5;21mdo_wait_suspend\u001B[39m(\u001B[38;5;28mself\u001B[39m, \u001B[38;5;241m*\u001B[39margs, \u001B[38;5;241m*\u001B[39m\u001B[38;5;241m*\u001B[39mkwargs):\n\u001B[0;32m--> 144\u001B[0m     \u001B[38;5;28;43mself\u001B[39;49m\u001B[38;5;241;43m.\u001B[39;49m\u001B[43m_args\u001B[49m\u001B[43m[\u001B[49m\u001B[38;5;241;43m0\u001B[39;49m\u001B[43m]\u001B[49m\u001B[38;5;241;43m.\u001B[39;49m\u001B[43mdo_wait_suspend\u001B[49m\u001B[43m(\u001B[49m\u001B[38;5;241;43m*\u001B[39;49m\u001B[43margs\u001B[49m\u001B[43m,\u001B[49m\u001B[43m \u001B[49m\u001B[38;5;241;43m*\u001B[39;49m\u001B[38;5;241;43m*\u001B[39;49m\u001B[43mkwargs\u001B[49m\u001B[43m)\u001B[49m\n",
      "File \u001B[0;32m/snap/pycharm-professional/302/plugins/python/helpers/pydev/pydevd.py:1160\u001B[0m, in \u001B[0;36mPyDB.do_wait_suspend\u001B[0;34m(self, thread, frame, event, arg, send_suspend_message, is_unhandled_exception)\u001B[0m\n\u001B[1;32m   1157\u001B[0m         from_this_thread\u001B[38;5;241m.\u001B[39mappend(frame_id)\n\u001B[1;32m   1159\u001B[0m \u001B[38;5;28;01mwith\u001B[39;00m \u001B[38;5;28mself\u001B[39m\u001B[38;5;241m.\u001B[39m_threads_suspended_single_notification\u001B[38;5;241m.\u001B[39mnotify_thread_suspended(thread_id, stop_reason):\n\u001B[0;32m-> 1160\u001B[0m     \u001B[38;5;28;43mself\u001B[39;49m\u001B[38;5;241;43m.\u001B[39;49m\u001B[43m_do_wait_suspend\u001B[49m\u001B[43m(\u001B[49m\u001B[43mthread\u001B[49m\u001B[43m,\u001B[49m\u001B[43m \u001B[49m\u001B[43mframe\u001B[49m\u001B[43m,\u001B[49m\u001B[43m \u001B[49m\u001B[43mevent\u001B[49m\u001B[43m,\u001B[49m\u001B[43m \u001B[49m\u001B[43marg\u001B[49m\u001B[43m,\u001B[49m\u001B[43m \u001B[49m\u001B[43msuspend_type\u001B[49m\u001B[43m,\u001B[49m\u001B[43m \u001B[49m\u001B[43mfrom_this_thread\u001B[49m\u001B[43m)\u001B[49m\n",
      "File \u001B[0;32m/snap/pycharm-professional/302/plugins/python/helpers/pydev/pydevd.py:1175\u001B[0m, in \u001B[0;36mPyDB._do_wait_suspend\u001B[0;34m(self, thread, frame, event, arg, suspend_type, from_this_thread)\u001B[0m\n\u001B[1;32m   1172\u001B[0m             \u001B[38;5;28mself\u001B[39m\u001B[38;5;241m.\u001B[39m_call_mpl_hook()\n\u001B[1;32m   1174\u001B[0m         \u001B[38;5;28mself\u001B[39m\u001B[38;5;241m.\u001B[39mprocess_internal_commands()\n\u001B[0;32m-> 1175\u001B[0m         \u001B[43mtime\u001B[49m\u001B[38;5;241;43m.\u001B[39;49m\u001B[43msleep\u001B[49m\u001B[43m(\u001B[49m\u001B[38;5;241;43m0.01\u001B[39;49m\u001B[43m)\u001B[49m\n\u001B[1;32m   1177\u001B[0m \u001B[38;5;28mself\u001B[39m\u001B[38;5;241m.\u001B[39mcancel_async_evaluation(get_current_thread_id(thread), \u001B[38;5;28mstr\u001B[39m(\u001B[38;5;28mid\u001B[39m(frame)))\n\u001B[1;32m   1179\u001B[0m \u001B[38;5;66;03m# process any stepping instructions\u001B[39;00m\n",
      "\u001B[0;31mKeyboardInterrupt\u001B[0m: "
     ]
    }
   ],
   "source": [
    "agent = load_agent_from_archive()\n",
    "enjoy_brax(agent)"
   ]
  },
  {
   "cell_type": "code",
   "execution_count": 21,
   "metadata": {},
   "outputs": [],
   "source": []
  }
 ],
 "metadata": {
  "kernelspec": {
   "display_name": "Python 3 (ipykernel)",
   "language": "python",
   "name": "python3"
  },
  "language_info": {
   "codemirror_mode": {
    "name": "ipython",
    "version": 3
   },
   "file_extension": ".py",
   "mimetype": "text/x-python",
   "name": "python",
   "nbconvert_exporter": "python",
   "pygments_lexer": "ipython3",
   "version": "3.9.13"
  }
 },
 "nbformat": 4,
 "nbformat_minor": 1
}

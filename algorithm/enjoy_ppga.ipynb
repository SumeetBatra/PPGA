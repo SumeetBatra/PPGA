{
 "cells": [
  {
   "cell_type": "code",
   "execution_count": null,
   "metadata": {
    "collapsed": true
   },
   "outputs": [],
   "source": [
    "import os\n",
    "from pathlib import Path\n",
    "project_root = os.path.join(str(Path.home()), 'QDPPO')\n",
    "os.chdir(project_root)\n",
    "%pwd # should be PPGA root dir"
   ]
  },
  {
   "cell_type": "code",
   "execution_count": null,
   "outputs": [],
   "source": [
    "import pickle\n",
    "\n",
    "import numpy as np\n",
    "from attrdict import AttrDict\n",
    "from RL.ppo import *\n",
    "from utils.utilities import log\n",
    "from envs.brax_custom.brax_env import make_vec_env_brax\n",
    "from models.actor_critic import Actor, PGAMEActor\n",
    "from pandas import DataFrame\n",
    "\n",
    "from IPython.display import HTML, Image\n",
    "from IPython.display import display\n",
    "from brax.io import html, image"
   ],
   "metadata": {
    "collapsed": false
   }
  },
  {
   "cell_type": "code",
   "execution_count": null,
   "outputs": [],
   "source": [
    "# params to config\n",
    "device = torch.device('cuda')\n",
    "env_name = 'humanoid'\n",
    "seed = 1111\n",
    "normalize_obs = True\n",
    "normalize_rewards = True\n",
    "# non-configurable params\n",
    "obs_shapes = {\n",
    "    'humanoid': (227,),\n",
    "    'ant': (87,),\n",
    "    'halfcheetah': (18,),\n",
    "    'walker2d': (17,)\n",
    "}\n",
    "action_shapes = {\n",
    "    'humanoid': (17,),\n",
    "    'ant': (8,),\n",
    "    'halfcheetah': (6,),\n",
    "    'walker2d': (6,)\n",
    "}\n",
    "\n",
    "# define the final config objects\n",
    "actor_cfg = AttrDict({\n",
    "        'obs_shape': obs_shapes[env_name],\n",
    "        'action_shape': action_shapes[env_name],\n",
    "        'normalize_obs': normalize_obs,\n",
    "        'normalize_rewards': normalize_rewards,\n",
    "})\n",
    "env_cfg = AttrDict({\n",
    "        'env_name': env_name,\n",
    "        'env_batch_size': None,\n",
    "        'num_dims': 2 if not 'ant' in env_name else 4,\n",
    "        'envs_per_model': 1,\n",
    "        'seed': seed,\n",
    "        'num_envs': 1,\n",
    "})\n"
   ],
   "metadata": {
    "collapsed": false
   }
  },
  {
   "cell_type": "code",
   "execution_count": null,
   "outputs": [],
   "source": [
    "# now lets load in a saved archive dataframe and scheduler\n",
    "# change this to be your own checkpoint path\n",
    "archive_path = 'experiments/paper_qdppo_humanoid/1111/checkpoints/cp_00002000/archive_00002000.pkl'\n",
    "scheduler_path = '/home/sumeet/QDPPO/experiments/paper_qdppo_halfcheetah/1111/checkpoints/cp_00002000/scheduler_00002000.pkl'\n",
    "with open(archive_path, 'rb') as f:\n",
    "    archive_df = pickle.load(f)\n",
    "with open(scheduler_path, 'rb') as f:\n",
    "    scheduler = pickle.load(f)"
   ],
   "metadata": {
    "collapsed": false
   }
  },
  {
   "cell_type": "code",
   "execution_count": null,
   "outputs": [],
   "source": [
    "# create the environment\n",
    "env = make_vec_env_brax(env_cfg)"
   ],
   "metadata": {
    "collapsed": false
   }
  },
  {
   "cell_type": "code",
   "execution_count": null,
   "outputs": [],
   "source": [
    "def load_agent_from_archive(agent_idx):\n",
    "    '''\n",
    "    Load an agent from an archive saved as a Pandas dataframe\n",
    "    '''\n",
    "    agent_params = archive_df.query(f'{agent_idx}').filter(regex='solution*').to_numpy()\n",
    "    agent = Actor(actor_cfg, obs_shape=actor_cfg.obs_shape, action_shape=actor_cfg.action_shape).deserialize(agent_params).to(device)\n",
    "    return agent"
   ],
   "metadata": {
    "collapsed": false
   }
  },
  {
   "cell_type": "code",
   "execution_count": null,
   "outputs": [],
   "source": [
    "def get_best_elite():\n",
    "    best_elite = scheduler.archive.best_elite\n",
    "    agent = Actor(actor_cfg, obs_shape=actor_cfg.obs_shape[0], action_shape=actor_cfg.action_shape).deserialize(best_elite.solution).to(device)\n",
    "    if actor_cfg.normalize_obs:\n",
    "        agent.obs_normalizer = best_elite.metadata['obs_normalizer']\n",
    "    return agent"
   ],
   "metadata": {
    "collapsed": false
   }
  },
  {
   "cell_type": "code",
   "execution_count": null,
   "outputs": [],
   "source": [
    "def get_random_elite():\n",
    "    elite = scheduler.archive.sample_elites(1)\n",
    "    agent = Actor(actor_cfg, obs_shape=actor_cfg.obs_shape[0], action_shape=actor_cfg.action_shape).deserialize(elite.solution_batch.flatten()).to(device)\n",
    "    if actor_cfg.normalize_obs:\n",
    "        agent.obs_normalizer = elite.metadata_batch[0]['obs_normalizer']\n",
    "    return agent"
   ],
   "metadata": {
    "collapsed": false
   }
  },
  {
   "cell_type": "code",
   "execution_count": null,
   "outputs": [],
   "source": [
    "def enjoy_brax(agent, render=True, deterministic=True):\n",
    "    if actor_cfg.normalize_obs:\n",
    "        obs_mean, obs_var = agent.obs_normalizer.obs_rms.mean, agent.obs_normalizer.obs_rms.var\n",
    "\n",
    "    obs = env.reset()\n",
    "    rollout = [env.unwrapped._state]\n",
    "    total_reward = 0\n",
    "    measures = torch.zeros(env_cfg.num_dims).to(device)\n",
    "    done = False\n",
    "    while not done:\n",
    "        with torch.no_grad():\n",
    "            obs = obs.unsqueeze(dim=0).to(device)\n",
    "            if actor_cfg.normalize_obs:\n",
    "                obs = (obs - obs_mean) / torch.sqrt(obs_var + 1e-8)\n",
    "\n",
    "            if deterministic:\n",
    "                act = agent.actor_mean(obs)\n",
    "            else:\n",
    "                act, _, _ = agent.get_action(obs)\n",
    "            act = act.squeeze()\n",
    "            obs, rew, done, info = env.step(act.cpu())\n",
    "            measures += info['measures']\n",
    "            rollout.append(env.unwrapped._state)\n",
    "            total_reward += rew\n",
    "    if render:\n",
    "        i = HTML(html.render(env.unwrapped._env.sys, [s.qp for s in rollout]))\n",
    "        display(i)\n",
    "        print(f'{total_reward=}')\n",
    "        print(f' Rollout length: {len(rollout)}')\n",
    "        measures /= len(rollout)\n",
    "        print(f'Measures: {measures.cpu().numpy()}')\n",
    "    return total_reward.detach().cpu().numpy()"
   ],
   "metadata": {
    "collapsed": false
   }
  },
  {
   "cell_type": "code",
   "execution_count": null,
   "outputs": [],
   "source": [
    "agent = get_random_elite()\n",
    "enjoy_brax(agent, render=True)"
   ],
   "metadata": {
    "collapsed": false
   }
  },
  {
   "cell_type": "code",
   "execution_count": null,
   "outputs": [],
   "source": [],
   "metadata": {
    "collapsed": false
   }
  }
 ],
 "metadata": {
  "kernelspec": {
   "display_name": "Python 3",
   "language": "python",
   "name": "python3"
  },
  "language_info": {
   "codemirror_mode": {
    "name": "ipython",
    "version": 2
   },
   "file_extension": ".py",
   "mimetype": "text/x-python",
   "name": "python",
   "nbconvert_exporter": "python",
   "pygments_lexer": "ipython2",
   "version": "2.7.6"
  }
 },
 "nbformat": 4,
 "nbformat_minor": 0
}
